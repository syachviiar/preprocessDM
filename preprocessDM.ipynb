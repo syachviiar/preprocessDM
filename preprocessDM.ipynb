{
  "nbformat": 4,
  "nbformat_minor": 0,
  "metadata": {
    "colab": {
      "provenance": []
    },
    "kernelspec": {
      "name": "python3",
      "display_name": "Python 3"
    },
    "language_info": {
      "name": "python"
    }
  },
  "cells": [
    {
      "cell_type": "code",
      "execution_count": 1,
      "metadata": {
        "id": "TM7Pw2zHq9GV"
      },
      "outputs": [],
      "source": [
        "# 1. Import libraries yang dibutuhkan\n",
        "import pandas as pd\n",
        "import numpy as np\n",
        "from sklearn.preprocessing import LabelEncoder"
      ]
    },
    {
      "source": [
        "# 2. Membaca dataset\n",
        "# Menggunakan pd.read_excel untuk Excel files\n",
        "df = pd.read_excel('/content/dataKasus-1.xlsx')"
      ],
      "cell_type": "code",
      "metadata": {
        "id": "EjNk6FMitx81"
      },
      "execution_count": 12,
      "outputs": []
    },
    {
      "cell_type": "code",
      "source": [
        "# 3. Menghapus kolom yang tidak diperlukan\n",
        "df.drop(columns=['NO', 'NAMA'], inplace=True)"
      ],
      "metadata": {
        "id": "jqbVcWxUt74O"
      },
      "execution_count": 13,
      "outputs": []
    },
    {
      "source": [
        "# 4. Membersihkan kolom USIA\n",
        "# Menghapus string \"TH\" dan mengubah tipe data menjadi numerik\n",
        "# Mengganti ' TH' pada atribut usia dengan empty string\n",
        "df['USIA'] = df['USIA'].str.replace(' TH', '')\n",
        "# Mengganti ' TH' dengan string kosong\n",
        "df['USIA'] = pd.to_numeric(df['USIA'], errors='coerce')\n",
        "# Mengisi nilai NaN dengan 0 dan mengubahnya ke tipe integer\n",
        "df['USIA'] = df['USIA'].fillna(0).astype(int)"
      ],
      "cell_type": "code",
      "metadata": {
        "id": "LHVoP3ZYuT3M"
      },
      "execution_count": 14,
      "outputs": []
    },
    {
      "cell_type": "code",
      "source": [
        "# 5. Mengubah kolom JARAK KELAHIRAN menjadi kategori biner\n",
        "# Jika \"< 2 tahun\" = 0, \"> 2 tahun\" = 1\n",
        "# Mengonversi kolom menjadi tipe string untuk menangani kemungkinan nilai float\n",
        "df['JARAK KELAHIRAN'] = df['JARAK KELAHIRAN'].astype(str)\n",
        "# Mengubah nilai menjadi 0 jika '< 2 tahun', selain itu menjadi 1\n",
        "df['JARAK KELAHIRAN'] = df['JARAK KELAHIRAN'].apply(lambda x: 0 if '< 2 tahun' in x else 1)"
      ],
      "metadata": {
        "id": "285BMT7yt9RM"
      },
      "execution_count": 17,
      "outputs": []
    },
    {
      "cell_type": "code",
      "source": [
        "# 6. Mengubah data kategorikal lainnya menjadi numerik dengan LabelEncoder\n",
        "label_cols = ['RIW HIPERTENSI', 'RIW PE', 'OBESITAS', 'RIW DM',\n",
        "              'RIW HIPERTENSI/PE DALAM KELUARGA', 'SOSEK RENDAH', 'PE/Non PE']\n",
        "\n",
        "le = LabelEncoder()\n",
        "for col in label_cols:\n",
        "    df[col] = le.fit_transform(df[col])"
      ],
      "metadata": {
        "id": "h1oMKkDYt9ZE"
      },
      "execution_count": 18,
      "outputs": []
    },
    {
      "cell_type": "code",
      "source": [
        "# 7. Memeriksa hasil preprocessing\n",
        "print(df.head())"
      ],
      "metadata": {
        "colab": {
          "base_uri": "https://localhost:8080/"
        },
        "id": "8y-DgOetuFtl",
        "outputId": "307d6dec-3e8f-4a9f-dd34-85bb9f076768"
      },
      "execution_count": 19,
      "outputs": [
        {
          "output_type": "stream",
          "name": "stdout",
          "text": [
            "   USIA  PARITAS  JARAK KELAHIRAN  RIW HIPERTENSI  RIW PE  OBESITAS  RIW DM  \\\n",
            "0    23        3                1               0       9         0       1   \n",
            "1    29        2                1               0       7         0       0   \n",
            "2    20        1                1               0       9         0       0   \n",
            "3    18        1                1               0       9         0       0   \n",
            "4    34        3                1               0       9         0       0   \n",
            "\n",
            "   RIW HIPERTENSI/PE DALAM KELUARGA  SOSEK RENDAH  PE/Non PE Unnamed: 12  \n",
            "0                                 1             1          1         NaN  \n",
            "1                                 0             1          2         NaN  \n",
            "2                                 1             1          1         NaN  \n",
            "3                                 1             1          1         NaN  \n",
            "4                                 1             1          1         NaN  \n"
          ]
        }
      ]
    },
    {
      "cell_type": "code",
      "source": [
        "# 8. Menyimpan data yang sudah dipreprocessing ke file baru\n",
        "df.to_csv('dataKasus-1_preprocessed.csv', index=False)"
      ],
      "metadata": {
        "id": "NqzM3Xl2uLJl"
      },
      "execution_count": 20,
      "outputs": []
    }
  ]
}